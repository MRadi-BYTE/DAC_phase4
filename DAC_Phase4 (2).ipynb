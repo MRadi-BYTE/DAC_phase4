{
  "nbformat": 4,
  "nbformat_minor": 0,
  "metadata": {
    "colab": {
      "provenance": []
    },
    "kernelspec": {
      "name": "python3",
      "display_name": "Python 3"
    },
    "language_info": {
      "name": "python"
    }
  },
  "cells": [
    {
      "cell_type": "code",
      "execution_count": 1,
      "metadata": {
        "colab": {
          "base_uri": "https://localhost:8080/",
          "height": 423
        },
        "id": "tFpPz7kxX3AE",
        "outputId": "3fb0196b-07d5-411a-8309-f739cd352d0c"
      },
      "outputs": [
        {
          "output_type": "execute_result",
          "data": {
            "text/plain": [
              "      Unnamed: 0        Date  Q-P1  Q-P2  Q-P3  Q-P4      S-P1      S-P2  \\\n",
              "0              0  13-06-2010  5422  3725   576   907  17187.74  23616.50   \n",
              "1              1  14-06-2010  7047   779  3578  1574  22338.99   4938.86   \n",
              "2              2  15-06-2010  1572  2082   595  1145   4983.24  13199.88   \n",
              "3              3  16-06-2010  5657  2399  3140  1672  17932.69  15209.66   \n",
              "4              4  17-06-2010  3668  3207  2184   708  11627.56  20332.38   \n",
              "...          ...         ...   ...   ...   ...   ...       ...       ...   \n",
              "4595        4595  30-01-2023  2476  3419   525  1359   7848.92  21676.46   \n",
              "4596        4596  31-01-2023  7446   841  4825  1311  23603.82   5331.94   \n",
              "4597        4597  01-02-2023  6289  3143  3588   474  19936.13  19926.62   \n",
              "4598        4598  02-02-2023  3122  1188  5899   517   9896.74   7531.92   \n",
              "4599        4599  03-02-2023  1234  3854  2321   406   3911.78  24434.36   \n",
              "\n",
              "          S-P3      S-P4  \n",
              "0      3121.92   6466.91  \n",
              "1     19392.76  11222.62  \n",
              "2      3224.90   8163.85  \n",
              "3     17018.80  11921.36  \n",
              "4     11837.28   5048.04  \n",
              "...        ...       ...  \n",
              "4595   2845.50   9689.67  \n",
              "4596  26151.50   9347.43  \n",
              "4597  19446.96   3379.62  \n",
              "4598  31972.58   3686.21  \n",
              "4599  12579.82   2894.78  \n",
              "\n",
              "[4600 rows x 10 columns]"
            ],
            "text/html": [
              "\n",
              "  <div id=\"df-1d990471-c6bb-4e56-9145-9ed21517dffb\" class=\"colab-df-container\">\n",
              "    <div>\n",
              "<style scoped>\n",
              "    .dataframe tbody tr th:only-of-type {\n",
              "        vertical-align: middle;\n",
              "    }\n",
              "\n",
              "    .dataframe tbody tr th {\n",
              "        vertical-align: top;\n",
              "    }\n",
              "\n",
              "    .dataframe thead th {\n",
              "        text-align: right;\n",
              "    }\n",
              "</style>\n",
              "<table border=\"1\" class=\"dataframe\">\n",
              "  <thead>\n",
              "    <tr style=\"text-align: right;\">\n",
              "      <th></th>\n",
              "      <th>Unnamed: 0</th>\n",
              "      <th>Date</th>\n",
              "      <th>Q-P1</th>\n",
              "      <th>Q-P2</th>\n",
              "      <th>Q-P3</th>\n",
              "      <th>Q-P4</th>\n",
              "      <th>S-P1</th>\n",
              "      <th>S-P2</th>\n",
              "      <th>S-P3</th>\n",
              "      <th>S-P4</th>\n",
              "    </tr>\n",
              "  </thead>\n",
              "  <tbody>\n",
              "    <tr>\n",
              "      <th>0</th>\n",
              "      <td>0</td>\n",
              "      <td>13-06-2010</td>\n",
              "      <td>5422</td>\n",
              "      <td>3725</td>\n",
              "      <td>576</td>\n",
              "      <td>907</td>\n",
              "      <td>17187.74</td>\n",
              "      <td>23616.50</td>\n",
              "      <td>3121.92</td>\n",
              "      <td>6466.91</td>\n",
              "    </tr>\n",
              "    <tr>\n",
              "      <th>1</th>\n",
              "      <td>1</td>\n",
              "      <td>14-06-2010</td>\n",
              "      <td>7047</td>\n",
              "      <td>779</td>\n",
              "      <td>3578</td>\n",
              "      <td>1574</td>\n",
              "      <td>22338.99</td>\n",
              "      <td>4938.86</td>\n",
              "      <td>19392.76</td>\n",
              "      <td>11222.62</td>\n",
              "    </tr>\n",
              "    <tr>\n",
              "      <th>2</th>\n",
              "      <td>2</td>\n",
              "      <td>15-06-2010</td>\n",
              "      <td>1572</td>\n",
              "      <td>2082</td>\n",
              "      <td>595</td>\n",
              "      <td>1145</td>\n",
              "      <td>4983.24</td>\n",
              "      <td>13199.88</td>\n",
              "      <td>3224.90</td>\n",
              "      <td>8163.85</td>\n",
              "    </tr>\n",
              "    <tr>\n",
              "      <th>3</th>\n",
              "      <td>3</td>\n",
              "      <td>16-06-2010</td>\n",
              "      <td>5657</td>\n",
              "      <td>2399</td>\n",
              "      <td>3140</td>\n",
              "      <td>1672</td>\n",
              "      <td>17932.69</td>\n",
              "      <td>15209.66</td>\n",
              "      <td>17018.80</td>\n",
              "      <td>11921.36</td>\n",
              "    </tr>\n",
              "    <tr>\n",
              "      <th>4</th>\n",
              "      <td>4</td>\n",
              "      <td>17-06-2010</td>\n",
              "      <td>3668</td>\n",
              "      <td>3207</td>\n",
              "      <td>2184</td>\n",
              "      <td>708</td>\n",
              "      <td>11627.56</td>\n",
              "      <td>20332.38</td>\n",
              "      <td>11837.28</td>\n",
              "      <td>5048.04</td>\n",
              "    </tr>\n",
              "    <tr>\n",
              "      <th>...</th>\n",
              "      <td>...</td>\n",
              "      <td>...</td>\n",
              "      <td>...</td>\n",
              "      <td>...</td>\n",
              "      <td>...</td>\n",
              "      <td>...</td>\n",
              "      <td>...</td>\n",
              "      <td>...</td>\n",
              "      <td>...</td>\n",
              "      <td>...</td>\n",
              "    </tr>\n",
              "    <tr>\n",
              "      <th>4595</th>\n",
              "      <td>4595</td>\n",
              "      <td>30-01-2023</td>\n",
              "      <td>2476</td>\n",
              "      <td>3419</td>\n",
              "      <td>525</td>\n",
              "      <td>1359</td>\n",
              "      <td>7848.92</td>\n",
              "      <td>21676.46</td>\n",
              "      <td>2845.50</td>\n",
              "      <td>9689.67</td>\n",
              "    </tr>\n",
              "    <tr>\n",
              "      <th>4596</th>\n",
              "      <td>4596</td>\n",
              "      <td>31-01-2023</td>\n",
              "      <td>7446</td>\n",
              "      <td>841</td>\n",
              "      <td>4825</td>\n",
              "      <td>1311</td>\n",
              "      <td>23603.82</td>\n",
              "      <td>5331.94</td>\n",
              "      <td>26151.50</td>\n",
              "      <td>9347.43</td>\n",
              "    </tr>\n",
              "    <tr>\n",
              "      <th>4597</th>\n",
              "      <td>4597</td>\n",
              "      <td>01-02-2023</td>\n",
              "      <td>6289</td>\n",
              "      <td>3143</td>\n",
              "      <td>3588</td>\n",
              "      <td>474</td>\n",
              "      <td>19936.13</td>\n",
              "      <td>19926.62</td>\n",
              "      <td>19446.96</td>\n",
              "      <td>3379.62</td>\n",
              "    </tr>\n",
              "    <tr>\n",
              "      <th>4598</th>\n",
              "      <td>4598</td>\n",
              "      <td>02-02-2023</td>\n",
              "      <td>3122</td>\n",
              "      <td>1188</td>\n",
              "      <td>5899</td>\n",
              "      <td>517</td>\n",
              "      <td>9896.74</td>\n",
              "      <td>7531.92</td>\n",
              "      <td>31972.58</td>\n",
              "      <td>3686.21</td>\n",
              "    </tr>\n",
              "    <tr>\n",
              "      <th>4599</th>\n",
              "      <td>4599</td>\n",
              "      <td>03-02-2023</td>\n",
              "      <td>1234</td>\n",
              "      <td>3854</td>\n",
              "      <td>2321</td>\n",
              "      <td>406</td>\n",
              "      <td>3911.78</td>\n",
              "      <td>24434.36</td>\n",
              "      <td>12579.82</td>\n",
              "      <td>2894.78</td>\n",
              "    </tr>\n",
              "  </tbody>\n",
              "</table>\n",
              "<p>4600 rows × 10 columns</p>\n",
              "</div>\n",
              "    <div class=\"colab-df-buttons\">\n",
              "\n",
              "  <div class=\"colab-df-container\">\n",
              "    <button class=\"colab-df-convert\" onclick=\"convertToInteractive('df-1d990471-c6bb-4e56-9145-9ed21517dffb')\"\n",
              "            title=\"Convert this dataframe to an interactive table.\"\n",
              "            style=\"display:none;\">\n",
              "\n",
              "  <svg xmlns=\"http://www.w3.org/2000/svg\" height=\"24px\" viewBox=\"0 -960 960 960\">\n",
              "    <path d=\"M120-120v-720h720v720H120Zm60-500h600v-160H180v160Zm220 220h160v-160H400v160Zm0 220h160v-160H400v160ZM180-400h160v-160H180v160Zm440 0h160v-160H620v160ZM180-180h160v-160H180v160Zm440 0h160v-160H620v160Z\"/>\n",
              "  </svg>\n",
              "    </button>\n",
              "\n",
              "  <style>\n",
              "    .colab-df-container {\n",
              "      display:flex;\n",
              "      gap: 12px;\n",
              "    }\n",
              "\n",
              "    .colab-df-convert {\n",
              "      background-color: #E8F0FE;\n",
              "      border: none;\n",
              "      border-radius: 50%;\n",
              "      cursor: pointer;\n",
              "      display: none;\n",
              "      fill: #1967D2;\n",
              "      height: 32px;\n",
              "      padding: 0 0 0 0;\n",
              "      width: 32px;\n",
              "    }\n",
              "\n",
              "    .colab-df-convert:hover {\n",
              "      background-color: #E2EBFA;\n",
              "      box-shadow: 0px 1px 2px rgba(60, 64, 67, 0.3), 0px 1px 3px 1px rgba(60, 64, 67, 0.15);\n",
              "      fill: #174EA6;\n",
              "    }\n",
              "\n",
              "    .colab-df-buttons div {\n",
              "      margin-bottom: 4px;\n",
              "    }\n",
              "\n",
              "    [theme=dark] .colab-df-convert {\n",
              "      background-color: #3B4455;\n",
              "      fill: #D2E3FC;\n",
              "    }\n",
              "\n",
              "    [theme=dark] .colab-df-convert:hover {\n",
              "      background-color: #434B5C;\n",
              "      box-shadow: 0px 1px 3px 1px rgba(0, 0, 0, 0.15);\n",
              "      filter: drop-shadow(0px 1px 2px rgba(0, 0, 0, 0.3));\n",
              "      fill: #FFFFFF;\n",
              "    }\n",
              "  </style>\n",
              "\n",
              "    <script>\n",
              "      const buttonEl =\n",
              "        document.querySelector('#df-1d990471-c6bb-4e56-9145-9ed21517dffb button.colab-df-convert');\n",
              "      buttonEl.style.display =\n",
              "        google.colab.kernel.accessAllowed ? 'block' : 'none';\n",
              "\n",
              "      async function convertToInteractive(key) {\n",
              "        const element = document.querySelector('#df-1d990471-c6bb-4e56-9145-9ed21517dffb');\n",
              "        const dataTable =\n",
              "          await google.colab.kernel.invokeFunction('convertToInteractive',\n",
              "                                                    [key], {});\n",
              "        if (!dataTable) return;\n",
              "\n",
              "        const docLinkHtml = 'Like what you see? Visit the ' +\n",
              "          '<a target=\"_blank\" href=https://colab.research.google.com/notebooks/data_table.ipynb>data table notebook</a>'\n",
              "          + ' to learn more about interactive tables.';\n",
              "        element.innerHTML = '';\n",
              "        dataTable['output_type'] = 'display_data';\n",
              "        await google.colab.output.renderOutput(dataTable, element);\n",
              "        const docLink = document.createElement('div');\n",
              "        docLink.innerHTML = docLinkHtml;\n",
              "        element.appendChild(docLink);\n",
              "      }\n",
              "    </script>\n",
              "  </div>\n",
              "\n",
              "\n",
              "<div id=\"df-74aa6fa3-2efc-4251-b6d1-2e4863454664\">\n",
              "  <button class=\"colab-df-quickchart\" onclick=\"quickchart('df-74aa6fa3-2efc-4251-b6d1-2e4863454664')\"\n",
              "            title=\"Suggest charts.\"\n",
              "            style=\"display:none;\">\n",
              "\n",
              "<svg xmlns=\"http://www.w3.org/2000/svg\" height=\"24px\"viewBox=\"0 0 24 24\"\n",
              "     width=\"24px\">\n",
              "    <g>\n",
              "        <path d=\"M19 3H5c-1.1 0-2 .9-2 2v14c0 1.1.9 2 2 2h14c1.1 0 2-.9 2-2V5c0-1.1-.9-2-2-2zM9 17H7v-7h2v7zm4 0h-2V7h2v10zm4 0h-2v-4h2v4z\"/>\n",
              "    </g>\n",
              "</svg>\n",
              "  </button>\n",
              "\n",
              "<style>\n",
              "  .colab-df-quickchart {\n",
              "      --bg-color: #E8F0FE;\n",
              "      --fill-color: #1967D2;\n",
              "      --hover-bg-color: #E2EBFA;\n",
              "      --hover-fill-color: #174EA6;\n",
              "      --disabled-fill-color: #AAA;\n",
              "      --disabled-bg-color: #DDD;\n",
              "  }\n",
              "\n",
              "  [theme=dark] .colab-df-quickchart {\n",
              "      --bg-color: #3B4455;\n",
              "      --fill-color: #D2E3FC;\n",
              "      --hover-bg-color: #434B5C;\n",
              "      --hover-fill-color: #FFFFFF;\n",
              "      --disabled-bg-color: #3B4455;\n",
              "      --disabled-fill-color: #666;\n",
              "  }\n",
              "\n",
              "  .colab-df-quickchart {\n",
              "    background-color: var(--bg-color);\n",
              "    border: none;\n",
              "    border-radius: 50%;\n",
              "    cursor: pointer;\n",
              "    display: none;\n",
              "    fill: var(--fill-color);\n",
              "    height: 32px;\n",
              "    padding: 0;\n",
              "    width: 32px;\n",
              "  }\n",
              "\n",
              "  .colab-df-quickchart:hover {\n",
              "    background-color: var(--hover-bg-color);\n",
              "    box-shadow: 0 1px 2px rgba(60, 64, 67, 0.3), 0 1px 3px 1px rgba(60, 64, 67, 0.15);\n",
              "    fill: var(--button-hover-fill-color);\n",
              "  }\n",
              "\n",
              "  .colab-df-quickchart-complete:disabled,\n",
              "  .colab-df-quickchart-complete:disabled:hover {\n",
              "    background-color: var(--disabled-bg-color);\n",
              "    fill: var(--disabled-fill-color);\n",
              "    box-shadow: none;\n",
              "  }\n",
              "\n",
              "  .colab-df-spinner {\n",
              "    border: 2px solid var(--fill-color);\n",
              "    border-color: transparent;\n",
              "    border-bottom-color: var(--fill-color);\n",
              "    animation:\n",
              "      spin 1s steps(1) infinite;\n",
              "  }\n",
              "\n",
              "  @keyframes spin {\n",
              "    0% {\n",
              "      border-color: transparent;\n",
              "      border-bottom-color: var(--fill-color);\n",
              "      border-left-color: var(--fill-color);\n",
              "    }\n",
              "    20% {\n",
              "      border-color: transparent;\n",
              "      border-left-color: var(--fill-color);\n",
              "      border-top-color: var(--fill-color);\n",
              "    }\n",
              "    30% {\n",
              "      border-color: transparent;\n",
              "      border-left-color: var(--fill-color);\n",
              "      border-top-color: var(--fill-color);\n",
              "      border-right-color: var(--fill-color);\n",
              "    }\n",
              "    40% {\n",
              "      border-color: transparent;\n",
              "      border-right-color: var(--fill-color);\n",
              "      border-top-color: var(--fill-color);\n",
              "    }\n",
              "    60% {\n",
              "      border-color: transparent;\n",
              "      border-right-color: var(--fill-color);\n",
              "    }\n",
              "    80% {\n",
              "      border-color: transparent;\n",
              "      border-right-color: var(--fill-color);\n",
              "      border-bottom-color: var(--fill-color);\n",
              "    }\n",
              "    90% {\n",
              "      border-color: transparent;\n",
              "      border-bottom-color: var(--fill-color);\n",
              "    }\n",
              "  }\n",
              "</style>\n",
              "\n",
              "  <script>\n",
              "    async function quickchart(key) {\n",
              "      const quickchartButtonEl =\n",
              "        document.querySelector('#' + key + ' button');\n",
              "      quickchartButtonEl.disabled = true;  // To prevent multiple clicks.\n",
              "      quickchartButtonEl.classList.add('colab-df-spinner');\n",
              "      try {\n",
              "        const charts = await google.colab.kernel.invokeFunction(\n",
              "            'suggestCharts', [key], {});\n",
              "      } catch (error) {\n",
              "        console.error('Error during call to suggestCharts:', error);\n",
              "      }\n",
              "      quickchartButtonEl.classList.remove('colab-df-spinner');\n",
              "      quickchartButtonEl.classList.add('colab-df-quickchart-complete');\n",
              "    }\n",
              "    (() => {\n",
              "      let quickchartButtonEl =\n",
              "        document.querySelector('#df-74aa6fa3-2efc-4251-b6d1-2e4863454664 button');\n",
              "      quickchartButtonEl.style.display =\n",
              "        google.colab.kernel.accessAllowed ? 'block' : 'none';\n",
              "    })();\n",
              "  </script>\n",
              "</div>\n",
              "    </div>\n",
              "  </div>\n"
            ]
          },
          "metadata": {},
          "execution_count": 1
        }
      ],
      "source": [
        "import numpy as np\n",
        "import pandas as pd\n",
        "import matplotlib.pyplot as plt\n",
        "product=pd.read_csv(\"statsfinal.csv\")\n",
        "product"
      ]
    },
    {
      "cell_type": "code",
      "source": [
        "mean = np.mean(product)\n",
        "mean"
      ],
      "metadata": {
        "colab": {
          "base_uri": "https://localhost:8080/"
        },
        "id": "MebWOqIDYMp-",
        "outputId": "64735955-8b29-4e5c-8e83-f91fbc82a3b8"
      },
      "execution_count": 2,
      "outputs": [
        {
          "output_type": "stream",
          "name": "stderr",
          "text": [
            "/usr/local/lib/python3.10/dist-packages/numpy/core/fromnumeric.py:3430: FutureWarning: In a future version, DataFrame.mean(axis=None) will return a scalar mean over the entire DataFrame. To retain the old behavior, use 'frame.mean(axis=0)' or just 'frame.mean()'\n",
            "  return mean(axis=axis, dtype=dtype, out=out, **kwargs)\n",
            "/usr/local/lib/python3.10/dist-packages/numpy/core/fromnumeric.py:3430: FutureWarning: The default value of numeric_only in DataFrame.mean is deprecated. In a future version, it will default to False. In addition, specifying 'numeric_only=None' is deprecated. Select only valid columns or specify the value of numeric_only to silence this warning.\n",
            "  return mean(axis=axis, dtype=dtype, out=out, **kwargs)\n"
          ]
        },
        {
          "output_type": "execute_result",
          "data": {
            "text/plain": [
              "Unnamed: 0     2299.500000\n",
              "Q-P1           4121.849130\n",
              "Q-P2           2130.281522\n",
              "Q-P3           3145.740000\n",
              "Q-P4           1123.500000\n",
              "S-P1          13066.261743\n",
              "S-P2          13505.984848\n",
              "S-P3          17049.910800\n",
              "S-P4           8010.555000\n",
              "dtype: float64"
            ]
          },
          "metadata": {},
          "execution_count": 2
        }
      ]
    },
    {
      "cell_type": "code",
      "source": [
        "std_dev = np.std(product)\n",
        "std_dev"
      ],
      "metadata": {
        "colab": {
          "base_uri": "https://localhost:8080/"
        },
        "id": "yAkVWC9tYM0C",
        "outputId": "3c878baf-b5a4-4d3f-e078-fe86801ca04f"
      },
      "execution_count": 3,
      "outputs": [
        {
          "output_type": "stream",
          "name": "stderr",
          "text": [
            "/usr/local/lib/python3.10/dist-packages/numpy/core/fromnumeric.py:3571: FutureWarning: The default value of numeric_only in DataFrame.std is deprecated. In a future version, it will default to False. In addition, specifying 'numeric_only=None' is deprecated. Select only valid columns or specify the value of numeric_only to silence this warning.\n",
            "  return std(axis=axis, dtype=dtype, out=out, ddof=ddof, **kwargs)\n"
          ]
        },
        {
          "output_type": "execute_result",
          "data": {
            "text/plain": [
              "Unnamed: 0    1327.905588\n",
              "Q-P1          2244.027367\n",
              "Q-P2          1089.665243\n",
              "Q-P3          1671.650501\n",
              "Q-P4           497.331609\n",
              "S-P1          7113.566754\n",
              "S-P2          6908.477643\n",
              "S-P3          9060.345713\n",
              "S-P4          3545.974374\n",
              "dtype: float64"
            ]
          },
          "metadata": {},
          "execution_count": 3
        }
      ]
    },
    {
      "cell_type": "code",
      "source": [
        "from matplotlib import pyplot as plt\n",
        "x = mean\n",
        "y = std_dev\n",
        "plt.plot(mean,std_dev)\n",
        "plt.title(\"Line graph\")\n",
        "plt.ylabel('Y axis')\n",
        "plt.xlabel('X axis')\n",
        "plt.show()"
      ],
      "metadata": {
        "colab": {
          "base_uri": "https://localhost:8080/",
          "height": 472
        },
        "id": "ng3kMQgYYM9J",
        "outputId": "e479081f-8401-4912-8ada-abc0334c7786"
      },
      "execution_count": 4,
      "outputs": [
        {
          "output_type": "display_data",
          "data": {
            "text/plain": [
              "<Figure size 640x480 with 1 Axes>"
            ],
            "image/png": "[encoded data removed]"
          },
          "metadata": {}
        }
      ]
    },
    {
      "cell_type": "code",
      "source": [
        "total_cases = product['S-P1'].sum()\n",
        "total_deaths = product['S-P2'].sum()\n",
        "labels = ['S-P1', 'S-P2']\n",
        "sizes = [total_cases, total_deaths]\n",
        "colors = ['indigo', 'red']\n",
        "explode = (0.1, 0)\n",
        "plt.pie(sizes, explode=explode, labels=labels, colors=colors, autopct='%1.1f%%', startangle=140)\n",
        "plt.axis('equal')\n",
        "plt.title('Revenue of P1 and P2')\n",
        "plt.show()"
      ],
      "metadata": {
        "colab": {
          "base_uri": "https://localhost:8080/",
          "height": 428
        },
        "id": "A6qdlPOjYNFA",
        "outputId": "36bf84cc-9cc0-4d81-e7e8-8f4d8f2a68c2"
      },
      "execution_count": 5,
      "outputs": [
        {
          "output_type": "display_data",
          "data": {
            "text/plain": [
              "<Figure size 640x480 with 1 Axes>"
            ],
            "image/png": "[encoded data removed]"
          },
          "metadata": {}
        }
      ]
    },
    {
      "cell_type": "code",
      "source": [
        "plt.bar(mean, std_dev, color=['blue', 'red'])\n",
        "plt.xlabel('mean')\n",
        "plt.ylabel('std_dev')\n",
        "plt.title('Mean and Standard Deviation')\n",
        "plt.show()"
      ],
      "metadata": {
        "colab": {
          "base_uri": "https://localhost:8080/",
          "height": 472
        },
        "id": "MGIIguV9ZgQn",
        "outputId": "1cdce22e-bd6d-4d6c-be93-66957cc8d5ff"
      },
      "execution_count": 6,
      "outputs": [
        {
          "output_type": "display_data",
          "data": {
            "text/plain": [
              "<Figure size 640x480 with 1 Axes>"
            ],
            "image/png": "[encoded data removed]"
          },
          "metadata": {}
        }
      ]
    },
    {
      "cell_type": "code",
      "source": [
        "correlation = product['S-P1'].corr(product['S-P2'])\n",
        "print(\"Correlation between S-P1 and S-P2:\", correlation)"
      ],
      "metadata": {
        "colab": {
          "base_uri": "https://localhost:8080/"
        },
        "id": "aJ7f2swmZgYb",
        "outputId": "27d9a97b-528c-4594-9ec2-5410addb22c8"
      },
      "execution_count": 7,
      "outputs": [
        {
          "output_type": "stream",
          "name": "stdout",
          "text": [
            "Correlation between S-P1 and S-P2: 0.0024223118554605656\n"
          ]
        }
      ]
    },
    {
      "cell_type": "code",
      "source": [
        "product['S-P1_Variation'] = product['S-P1'].pct_change() * 100\n",
        "product['S-P2_Variation'] = product['S-P2'].pct_change() * 100\n",
        "print(product[['S-P1_Variation', 'S-P2_Variation']])"
      ],
      "metadata": {
        "colab": {
          "base_uri": "https://localhost:8080/"
        },
        "id": "-Lcmlz7pZ0f9",
        "outputId": "406079e4-4f85-4d73-83b0-cb07a3e93b5e"
      },
      "execution_count": 8,
      "outputs": [
        {
          "output_type": "stream",
          "name": "stdout",
          "text": [
            "      S-P1_Variation  S-P2_Variation\n",
            "0                NaN             NaN\n",
            "1          29.970491      -79.087248\n",
            "2         -77.692635      167.265725\n",
            "3         259.860051       15.225744\n",
            "4         -35.159979       33.680700\n",
            "...              ...             ...\n",
            "4595      101.792991       12.319317\n",
            "4596      200.726979      -75.402164\n",
            "4597      -15.538544      273.721760\n",
            "4598      -50.357768      -62.201718\n",
            "4599      -60.474055      224.410774\n",
            "\n",
            "[4600 rows x 2 columns]\n"
          ]
        }
      ]
    }
  ]
}